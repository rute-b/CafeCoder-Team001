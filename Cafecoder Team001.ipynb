{
 "cells": [
  {
   "cell_type": "markdown",
   "metadata": {},
   "source": [
    "# A"
   ]
  },
  {
   "cell_type": "code",
   "execution_count": 1,
   "metadata": {},
   "outputs": [
    {
     "name": "stdout",
     "output_type": "stream",
     "text": [
      "400 100 100 100 100 0\n",
      "Yes\n"
     ]
    }
   ],
   "source": [
    "X,A,B,C,D,E = map(int,input().split())\n",
    "if (A+B+C+D+E)>=X:\n",
    "    print(\"Yes\")\n",
    "else:\n",
    "    print(\"No\")"
   ]
  },
  {
   "cell_type": "markdown",
   "metadata": {},
   "source": [
    "# B"
   ]
  },
  {
   "cell_type": "code",
   "execution_count": 2,
   "metadata": {},
   "outputs": [
    {
     "name": "stdout",
     "output_type": "stream",
     "text": [
      "3\n",
      "10 20 30 40 50\n",
      "150\n",
      "20 30 40 50 60\n",
      "200\n",
      "3 1 4 1 4\n",
      "13\n"
     ]
    }
   ],
   "source": [
    "N = int(input())\n",
    "for i in range(N):\n",
    "    K = list(map(int,input().split()))\n",
    "    print(sum(K))"
   ]
  },
  {
   "cell_type": "markdown",
   "metadata": {},
   "source": [
    "# C"
   ]
  },
  {
   "cell_type": "code",
   "execution_count": 5,
   "metadata": {},
   "outputs": [
    {
     "name": "stdout",
     "output_type": "stream",
     "text": [
      "abc\n",
      "6\n"
     ]
    }
   ],
   "source": [
    "S = input()\n",
    "ans = 0\n",
    "for i in range(len(S)):\n",
    "    ans += int(ord(S[i]))-96\n",
    "print(ans)"
   ]
  },
  {
   "cell_type": "markdown",
   "metadata": {},
   "source": [
    "# D"
   ]
  },
  {
   "cell_type": "code",
   "execution_count": 12,
   "metadata": {},
   "outputs": [
    {
     "name": "stdout",
     "output_type": "stream",
     "text": [
      "cafeCODER\n",
      "acefCDEOR\n"
     ]
    }
   ],
   "source": [
    "S = input()\n",
    "k = []\n",
    "k_2 = []\n",
    "ans = \"\"\n",
    "ans_2 = \"\"\n",
    "ans_3 = \"\"\n",
    "for i in range(len(S)):\n",
    "    if ord(S[i])>= 97:\n",
    "        k.append(S[i])\n",
    "    else:\n",
    "        k_2.append(S[i])\n",
    "k.sort()\n",
    "k_2.sort()\n",
    "for i in range(len(k)):\n",
    "    ans += k[i]\n",
    "for j in range(len(k_2)):\n",
    "    ans_2 += k_2[j]\n",
    "ans_3 += ans\n",
    "ans_3 += ans_2\n",
    "print(ans_3)"
   ]
  },
  {
   "cell_type": "markdown",
   "metadata": {},
   "source": [
    "# E"
   ]
  },
  {
   "cell_type": "code",
   "execution_count": 21,
   "metadata": {},
   "outputs": [
    {
     "name": "stdout",
     "output_type": "stream",
     "text": [
      "3\n",
      "..#..\n",
      ".....\n",
      "..#..\n",
      ".....\n",
      ".....\n",
      "No\n"
     ]
    }
   ],
   "source": [
    "N = int(input())\n",
    "k = []\n",
    "k_sub = []\n",
    "ans = 0\n",
    "flag = 0\n",
    "for i in range(2*N-1):\n",
    "    S = input()\n",
    "    for i in range(len(S)):\n",
    "        k_sub.append(S[i])\n",
    "    k.append(k_sub)\n",
    "    k_sub = []\n",
    "for i in range(0,2*N-1):\n",
    "    for j in range(0,2*N-1):\n",
    "        if k[i][j] == \".\":\n",
    "            ans += 1\n",
    "if ans == (2*N-1)**2-1:\n",
    "    flag = 1\n",
    "if k[N-1][N-1] == \"#\":\n",
    "    flag_2 = 1\n",
    "if flag == 1 and flag_2 == 1:\n",
    "    print(\"Yes\")\n",
    "else:\n",
    "    print(\"No\")"
   ]
  }
 ],
 "metadata": {
  "kernelspec": {
   "display_name": "Python 3",
   "language": "python",
   "name": "python3"
  },
  "language_info": {
   "codemirror_mode": {
    "name": "ipython",
    "version": 3
   },
   "file_extension": ".py",
   "mimetype": "text/x-python",
   "name": "python",
   "nbconvert_exporter": "python",
   "pygments_lexer": "ipython3",
   "version": "3.7.3"
  }
 },
 "nbformat": 4,
 "nbformat_minor": 2
}
